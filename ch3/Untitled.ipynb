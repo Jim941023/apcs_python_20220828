{
 "cells": [
  {
   "cell_type": "code",
   "execution_count": 1,
   "id": "b7433d3b",
   "metadata": {},
   "outputs": [
    {
     "name": "stdout",
     "output_type": "stream",
     "text": [
      "輸入字串:ABBA\n",
      "ABBA 是迴文\n"
     ]
    }
   ],
   "source": [
    "inStr = input(\"輸入字串:\")\n",
    "\n",
    "if inStr == inStr[::-1]:\n",
    "    print(inStr,\"是迴文\")\n",
    "else:\n",
    "    print(inStr,\"不是迴文\")\n"
   ]
  },
  {
   "cell_type": "code",
   "execution_count": 3,
   "id": "640db15d",
   "metadata": {},
   "outputs": [
    {
     "name": "stdout",
     "output_type": "stream",
     "text": [
      "請輸入國文成績:90\n",
      "請輸入數學成績:70\n",
      "請輸入英文成績:80\n",
      "總成績: 240\n",
      "平均分數80.00\n"
     ]
    },
    {
     "data": {
      "text/plain": [
       "'\\nnames = [\"國文\",\"數學\",\"英文\",\"物理\"]\\ntotal = 0\\nfor n in names:\\n   total += int(input(f\"請輸入{n}成績:\"))\\nprint(\"總成績:\",total)\\nprint(f\"平均分數{total / len(names):.2f}\")\\n'"
      ]
     },
     "execution_count": 3,
     "metadata": {},
     "output_type": "execute_result"
    }
   ],
   "source": [
    "ch = int(input(\"請輸入國文成績:\"))\n",
    "ma = int(input(\"請輸入數學成績:\"))\n",
    "en = int(input(\"請輸入英文成績:\"))\n",
    "total = ch + ma + en\n",
    "print(\"總成績:\",total)\n",
    "print(f\"平均分數{total / 3:.2f}\")\n",
    "\n",
    "\"\"\"\n",
    "names = [\"國文\",\"數學\",\"英文\",\"物理\"]\n",
    "total = 0\n",
    "for n in names:\n",
    "   total += int(input(f\"請輸入{n}成績:\"))\n",
    "print(\"總成績:\",total)\n",
    "print(f\"平均分數{total / len(names):.2f}\")\n",
    "\"\"\"   "
   ]
  },
  {
   "cell_type": "code",
   "execution_count": 4,
   "id": "8638306e",
   "metadata": {},
   "outputs": [
    {
     "name": "stdout",
     "output_type": "stream",
     "text": [
      "True\n",
      "False\n",
      "False\n",
      "True\n"
     ]
    }
   ],
   "source": [
    "b1,b2,b3,b4 = 100,90,100,90\n",
    "g1,g2,g3,g4 = 100,100,90,90\n",
    "print((b1 == 100) == (g1 == 100) )\n",
    "print((b2 == 100) == (g2 == 100))\n",
    "print((b3 == 100) == (g3 == 100))\n",
    "print((b4 == 100) == (g4 == 100))"
   ]
  },
  {
   "cell_type": "code",
   "execution_count": 7,
   "id": "b0019d33",
   "metadata": {},
   "outputs": [
    {
     "name": "stdout",
     "output_type": "stream",
     "text": [
      "考試及格\n",
      "執行結束\n"
     ]
    }
   ],
   "source": [
    "score = 65\n",
    "\n",
    "if score >= 60:\n",
    "    print(\"考試及格\")\n",
    "    \n",
    "print(\"執行結束\")\n"
   ]
  },
  {
   "cell_type": "code",
   "execution_count": 6,
   "id": "828ecbc9",
   "metadata": {},
   "outputs": [
    {
     "name": "stdout",
     "output_type": "stream",
     "text": [
      "考試不及格\n",
      "執行結束\n"
     ]
    }
   ],
   "source": [
    "score = 55\n",
    "if score >= 60:\n",
    "    print(\"考試及格\")\n",
    "else:\n",
    "    print(\"考試不及格\")\n",
    "print(\"執行結束\")    \n"
   ]
  },
  {
   "cell_type": "code",
   "execution_count": 8,
   "id": "2a1e549d",
   "metadata": {},
   "outputs": [
    {
     "name": "stdout",
     "output_type": "stream",
     "text": [
      "考試不及格\n",
      "執行結束\n"
     ]
    }
   ],
   "source": [
    "score = 35\n",
    "\n",
    "if score >= 60:\n",
    "    print(\"考試及格\")\n",
    "elif score >= 40:\n",
    "    print(\"需要補考\")\n",
    "else:\n",
    "    print(\"考試不及格\")\n",
    "    \n",
    "print(\"執行結束\")    "
   ]
  },
  {
   "cell_type": "code",
   "execution_count": 9,
   "id": "7a6d842f",
   "metadata": {},
   "outputs": [
    {
     "name": "stdout",
     "output_type": "stream",
     "text": [
      "考試及格\n",
      "上台領獎\n",
      "執行結束\n"
     ]
    }
   ],
   "source": [
    "score = 95\n",
    "\n",
    "if score >= 60:\n",
    "    print(\"考試及格\")\n",
    "    if score >= 90:\n",
    "        print(\"上台領獎\")\n",
    "else:\n",
    "    print(\"考試不及格\")\n",
    "    if score >= 40:\n",
    "        print(\"需要補考\")\n",
    "    else:\n",
    "        print(\"重修\")\n",
    "    \n",
    "print(\"執行結束\")    \n"
   ]
  },
  {
   "cell_type": "code",
   "execution_count": 10,
   "id": "54ddffa2",
   "metadata": {},
   "outputs": [
    {
     "name": "stdout",
     "output_type": "stream",
     "text": [
      "請輸入成績:35\n",
      "不用補考\n"
     ]
    }
   ],
   "source": [
    "score = int(input(\"請輸入成績:\"))\n",
    "\n",
    "if 40 <= score < 60:\n",
    "    print(\"需要補考\")\n",
    "else:\n",
    "    print(\"不用補考\")\n"
   ]
  },
  {
   "cell_type": "code",
   "execution_count": 11,
   "id": "574f459d",
   "metadata": {},
   "outputs": [
    {
     "name": "stdout",
     "output_type": "stream",
     "text": [
      "請輸入成績:65\n",
      "65 及格\n"
     ]
    }
   ],
   "source": [
    "score = int(input('請輸入成績:'))\n",
    "'''\n",
    "if(score>=60):\n",
    "    result='及格'\n",
    "else:\n",
    "    result='不及格'\n",
    "'''\n",
    "result = '及格' if(score>=60) else '不及格'\n",
    "print(score, result) \n"
   ]
  },
  {
   "cell_type": "markdown",
   "id": "f3831295",
   "metadata": {},
   "source": [
    "## 程式練習\n",
    "請寫一個程式，判斷輸入的整數為否為2或3的倍數\n",
    "使用%\n"
   ]
  },
  {
   "cell_type": "code",
   "execution_count": 13,
   "id": "f7a12ffd",
   "metadata": {},
   "outputs": [
    {
     "name": "stdout",
     "output_type": "stream",
     "text": [
      "輸入整數:6\n",
      "6是2的倍數,也是3的倍數\n"
     ]
    }
   ],
   "source": [
    "num = int(input('輸入整數:'))\n",
    "\n",
    "if(num%2==0 and num%3==0):\n",
    "    print('%d是2的倍數,也是3的倍數' %num)\n",
    "elif(num%2==0):\n",
    "    print('%d是2的倍數' %num)\n",
    "elif(num%3==0):\n",
    "    print('%d是3的倍數' %num)\n",
    "else:\n",
    "    print('%d不是2的倍數,也不是3的倍數' %num)"
   ]
  },
  {
   "cell_type": "code",
   "execution_count": 14,
   "id": "d8e723b9",
   "metadata": {},
   "outputs": [
    {
     "name": "stdout",
     "output_type": "stream",
     "text": [
      "6是2的倍數,也是3的倍數\n"
     ]
    }
   ],
   "source": [
    "if(num%2==0):\n",
    "   print('%d是2的倍數' %num, end='')\n",
    "   if(num%3==0):\n",
    "       print(',也是3的倍數')        \n",
    "else:\n",
    "   if(num%3==0):\n",
    "       print('%d是3的倍數' %num)\n",
    "   else:\n",
    "       print('%d不是2的倍數,也不是3的倍數' %num)"
   ]
  },
  {
   "attachments": {
    "image.png": {
     "image/png": "[encoded data removed]"
    }
   },
   "cell_type": "markdown",
   "id": "faaa667d",
   "metadata": {},
   "source": [
    "![image.png](attachment:image.png)"
   ]
  },
  {
   "cell_type": "code",
   "execution_count": 15,
   "id": "80c8f421",
   "metadata": {},
   "outputs": [
    {
     "name": "stdout",
     "output_type": "stream",
     "text": [
      "請輸入身高，單位為公分: 180\n",
      "請輸入體重，單位為公斤: 70\n",
      "bmi: 21.60, 判定結果: 正常\n"
     ]
    }
   ],
   "source": [
    "height = float(input('請輸入身高，單位為公分: '))\n",
    "weight = int(input('請輸入體重，單位為公斤: '))\n",
    "bmi = weight/((height/100)**2)\n",
    "print(\"bmi: %.2f, 判定結果: \" %(bmi), end='')\n",
    "\n",
    "if(bmi>30):\n",
    "    print('肥胖')\n",
    "elif(bmi>25):\n",
    "    print('過重')\n",
    "elif(bmi>18.5):\n",
    "    print('正常')\n",
    "elif(bmi>0):\n",
    "    print('過輕')\n",
    "else:\n",
    "    print('數值錯誤')\n"
   ]
  },
  {
   "cell_type": "markdown",
   "id": "cb318fbc",
   "metadata": {},
   "source": [
    "## Range 範圍"
   ]
  },
  {
   "cell_type": "code",
   "execution_count": 16,
   "id": "588b2a0e",
   "metadata": {},
   "outputs": [
    {
     "name": "stdout",
     "output_type": "stream",
     "text": [
      "range(0, 10)\n",
      "[0, 1, 2, 3, 4, 5, 6, 7, 8, 9]\n"
     ]
    }
   ],
   "source": [
    "a = range(10)\n",
    "print(a)\n",
    "print( list(a) )"
   ]
  },
  {
   "cell_type": "code",
   "execution_count": 17,
   "id": "a735bb15",
   "metadata": {},
   "outputs": [
    {
     "name": "stdout",
     "output_type": "stream",
     "text": [
      "range(2, 6)\n",
      "[2, 3, 4, 5]\n"
     ]
    }
   ],
   "source": [
    "a = range(2, 6)\n",
    "print(a)\n",
    "print( list(a) )"
   ]
  },
  {
   "cell_type": "code",
   "execution_count": 18,
   "id": "6cb2b3ec",
   "metadata": {},
   "outputs": [
    {
     "name": "stdout",
     "output_type": "stream",
     "text": [
      "[0, 2, 4]\n",
      "[6, 4, 2]\n"
     ]
    }
   ],
   "source": [
    "a = range(0,6,2)\n",
    "print( list(a) )\n",
    "\n",
    "b = range(6,0,-2)\n",
    "print( list(b) )"
   ]
  },
  {
   "cell_type": "code",
   "execution_count": 19,
   "id": "ac4522f5",
   "metadata": {},
   "outputs": [
    {
     "name": "stdout",
     "output_type": "stream",
     "text": [
      "Hello 0\n",
      "Hello 1\n",
      "Hello 2\n",
      "Hello 3\n",
      "Hello 4\n",
      "i =  4\n"
     ]
    }
   ],
   "source": [
    "for i in range(5):\n",
    "    print(\"Hello\", i)\n",
    "print(\"i = \", i)"
   ]
  },
  {
   "cell_type": "code",
   "execution_count": 20,
   "id": "d7a862b7",
   "metadata": {},
   "outputs": [
    {
     "name": "stdout",
     "output_type": "stream",
     "text": [
      "Hello 5\n",
      "Hello 6\n",
      "Hello 7\n",
      "Hello 8\n",
      "Hello 9\n",
      "i =  9\n"
     ]
    }
   ],
   "source": [
    "for i in range(5,10):    \n",
    "    print(\"Hello\", i)\n",
    "print(\"i = \",i)"
   ]
  },
  {
   "cell_type": "code",
   "execution_count": 21,
   "id": "ab2692a7",
   "metadata": {},
   "outputs": [
    {
     "name": "stdout",
     "output_type": "stream",
     "text": [
      "Hello 10\n",
      "Hello 8\n",
      "Hello 6\n",
      "Hello 4\n",
      "Hello 2\n",
      "i =  2\n"
     ]
    }
   ],
   "source": [
    "for i in range(10,0,-2):\n",
    "    print(\"Hello\", i)\n",
    "print(\"i = \",i)"
   ]
  },
  {
   "cell_type": "code",
   "execution_count": 22,
   "id": "db0f337a",
   "metadata": {},
   "outputs": [
    {
     "name": "stdout",
     "output_type": "stream",
     "text": [
      "H\n",
      "e\n",
      "l\n",
      "l\n",
      "o\n",
      "============\n",
      "Apple 5\n",
      "Banana 6\n",
      "Cherry 6\n",
      "============\n",
      "1 2\n",
      "2 3\n",
      "3 4\n",
      "==============\n"
     ]
    }
   ],
   "source": [
    "word = \"Hello\"\n",
    "\n",
    "for c in word:\n",
    "    print(c)\n",
    "print(\"============\")   \n",
    "    \n",
    "fruits = ['Apple','Banana','Cherry']\n",
    "for f in fruits:\n",
    "    print(f,len(f))\n",
    "print(\"============\")       \n",
    "listOfTouple = [(1,2),(2,3),(3,4)]\n",
    "for x1,x2 in listOfTouple:\n",
    "    print(x1,x2)\n",
    "print(\"==============\")    "
   ]
  },
  {
   "cell_type": "code",
   "execution_count": 23,
   "id": "74d7f2d8",
   "metadata": {},
   "outputs": [
    {
     "name": "stdout",
     "output_type": "stream",
     "text": [
      "*\n",
      "**\n",
      "***\n",
      "****\n"
     ]
    }
   ],
   "source": [
    "for i in range(1,5):\n",
    "    for k in range(0,i):\n",
    "        print(\"*\",end=\"\")\n",
    "    print(\"\")    \n",
    "        "
   ]
  },
  {
   "attachments": {
    "image.png": {
     "image/png": "[encoded data removed]"
    }
   },
   "cell_type": "markdown",
   "id": "0c58eeda",
   "metadata": {},
   "source": [
    "![image.png](attachment:image.png)"
   ]
  },
  {
   "cell_type": "code",
   "execution_count": 24,
   "id": "38709ead",
   "metadata": {},
   "outputs": [
    {
     "name": "stdout",
     "output_type": "stream",
     "text": [
      "猜一個數字6\n",
      "不對!在猜一次5\n",
      "猜對了\n"
     ]
    }
   ],
   "source": [
    "answer = 5\n",
    "guess = int(input(\"猜一個數字\"))\n",
    "while guess != answer:\n",
    "     guess = int(input(\"不對!在猜一次\"))\n",
    "    \n",
    "print(\"猜對了\")    \n"
   ]
  },
  {
   "attachments": {
    "image.png": {
     "image/png": "[encoded data removed]"
    }
   },
   "cell_type": "markdown",
   "id": "11f1a088",
   "metadata": {},
   "source": [
    "![image.png](attachment:image.png)"
   ]
  },
  {
   "cell_type": "markdown",
   "id": "7fbdab1b",
   "metadata": {},
   "source": [
    "## break"
   ]
  },
  {
   "cell_type": "code",
   "execution_count": 25,
   "id": "79b9a606",
   "metadata": {},
   "outputs": [
    {
     "name": "stdout",
     "output_type": "stream",
     "text": [
      "猜一個數字:2\n",
      "再猜一次:5\n",
      "猜對了\n",
      "遊戲結束!\n"
     ]
    }
   ],
   "source": [
    "count = 1 \n",
    "answer = 5\n",
    "guess = int(input('猜一個數字:'))\n",
    "while count < 5 :\n",
    "    if guess==answer:\n",
    "        print('猜對了')\n",
    "        break\t\t\n",
    "    count += 1\n",
    "    guess = int(input('再猜一次:'))\n",
    "\n",
    "print(\"遊戲結束!\")"
   ]
  },
  {
   "cell_type": "markdown",
   "id": "f125d8aa",
   "metadata": {},
   "source": [
    "## continue"
   ]
  },
  {
   "cell_type": "code",
   "execution_count": 26,
   "id": "13bd9452",
   "metadata": {},
   "outputs": [
    {
     "name": "stdout",
     "output_type": "stream",
     "text": [
      "投票給: David\n",
      "投票給: Amy\n",
      "投票給: Sean\n",
      "投票給: Sean\n",
      "投票給: Iris\n",
      "選票無效\n",
      "選舉結果:\n",
      "David 1 票\n",
      "Amy 1 票\n",
      "Sean 2 票\n"
     ]
    }
   ],
   "source": [
    "results = {\"David\":0, \"Amy\":0, \"Sean\":0}\n",
    "candidates = (\"David\", \"Amy\", \"Sean\")\n",
    "for i in range(5) :\n",
    "    vote = input('投票給: ')\n",
    "    if(vote not in candidates):\n",
    "        print('選票無效')\n",
    "        continue\n",
    "    results[vote] = results[vote]+1\n",
    "\n",
    "print(\"選舉結果:\")\n",
    "for name in candidates:\n",
    "    print(name, results[name], \"票\")"
   ]
  },
  {
   "cell_type": "markdown",
   "id": "29f4e40b",
   "metadata": {},
   "source": [
    "## 檢查所輸入的數是否為質數\n"
   ]
  },
  {
   "cell_type": "code",
   "execution_count": 27,
   "id": "482cbca5",
   "metadata": {},
   "outputs": [
    {
     "name": "stdout",
     "output_type": "stream",
     "text": [
      "輸入整數:11\n",
      "11 是質數\n"
     ]
    }
   ],
   "source": [
    "num = int(input('輸入整數:'))\n",
    "\n",
    "isPrimeNum = True\n",
    "for i in range(2, num):\n",
    "    if(num%i==0):\n",
    "        isPrimeNum = False\n",
    "        break\n",
    "\n",
    "if(isPrimeNum):\n",
    "    print(num, '是質數')\n",
    "else:\n",
    "    print(num, '不是質數')"
   ]
  },
  {
   "cell_type": "markdown",
   "id": "78c58a13",
   "metadata": {},
   "source": [
    "## 列出輸入整數的所有質因數"
   ]
  },
  {
   "cell_type": "code",
   "execution_count": 28,
   "id": "368d60fe",
   "metadata": {},
   "outputs": [
    {
     "name": "stdout",
     "output_type": "stream",
     "text": [
      "輸入整數108\n",
      "108 的因數1 2 3 4 6 9 12 18 27 36 54 108 "
     ]
    }
   ],
   "source": [
    "num = int(input(\"輸入整數\"))\n",
    "\n",
    "print(num,\"的因數\",end=\"\")\n",
    "for i in range(1,num+1):    \n",
    "    if num % i != 0:\n",
    "        continue\n",
    "    print(i,end=\" \")"
   ]
  },
  {
   "cell_type": "markdown",
   "id": "5839d120",
   "metadata": {},
   "source": [
    "## 函式 function"
   ]
  },
  {
   "cell_type": "code",
   "execution_count": 29,
   "id": "6f2edd47",
   "metadata": {},
   "outputs": [
    {
     "name": "stdout",
     "output_type": "stream",
     "text": [
      "呼叫greet()前\n",
      "Hello World!\n",
      "It's nice to meet you.\n",
      "Good Bye!\n",
      "呼叫greet()後\n"
     ]
    }
   ],
   "source": [
    "def greet():\n",
    "    print(\"Hello World!\")\n",
    "    print(\"It's nice to meet you.\")\n",
    "    print(\"Good Bye!\")\n",
    "    \n",
    "print(\"呼叫greet()前\")\n",
    "greet()\n",
    "print(\"呼叫greet()後\")    \n"
   ]
  },
  {
   "cell_type": "code",
   "execution_count": 30,
   "id": "99d42e5e",
   "metadata": {},
   "outputs": [
    {
     "name": "stdout",
     "output_type": "stream",
     "text": [
      "10 + 15\n",
      "25\n"
     ]
    }
   ],
   "source": [
    "def print_sum(a,b):\n",
    "    c = a + b\n",
    "    print(c)\n",
    "    \n",
    "print(\"10 + 15\")\n",
    "print_sum(10,15)"
   ]
  },
  {
   "cell_type": "code",
   "execution_count": 31,
   "id": "ff37c1e1",
   "metadata": {},
   "outputs": [
    {
     "name": "stdout",
     "output_type": "stream",
     "text": [
      "10 + 15\n",
      "25\n",
      "None\n",
      "6\n"
     ]
    }
   ],
   "source": [
    "def print_sum(a,b):\n",
    "    c = a + b\n",
    "    print(c)\n",
    "    \n",
    "print(\"10 + 15\")\n",
    "ans = print_sum(10,15)\n",
    "print(ans)\n",
    "\n",
    "def multip(a,b):\n",
    "    c = a * b\n",
    "    return c\n",
    "ans = multip(2,3)\n",
    "print(ans)\n"
   ]
  },
  {
   "cell_type": "code",
   "execution_count": 32,
   "id": "eda4c96f",
   "metadata": {},
   "outputs": [
    {
     "name": "stdout",
     "output_type": "stream",
     "text": [
      "3\n",
      "6\n"
     ]
    }
   ],
   "source": [
    "def get_sum(a,b,c = 0):\n",
    "    print(a + b + c)\n",
    "    \n",
    "get_sum(1,2)\n",
    "get_sum(1,2,3)\n"
   ]
  },
  {
   "cell_type": "markdown",
   "id": "6919f781",
   "metadata": {},
   "source": [
    "# 攝氏溫度轉換華氏溫度程式"
   ]
  },
  {
   "cell_type": "code",
   "execution_count": null,
   "id": "b22c8678",
   "metadata": {},
   "outputs": [],
   "source": [
    "def c2f(c):\n",
    "    f = 9 / 5 * c + 32\n",
    "    return f\n",
    "\n",
    "while(True):\n",
    "    inStr = input(\"輸入攝氏溫度(q離開)\")\n",
    "    if inStr == 'q':\n",
    "        print(\"程式結束\")\n",
    "        break\n",
    "    tc = float(inStr)\n",
    "    print(f\"華氏溫度:{c2f(tc):.2f}\")\n"
   ]
  },
  {
   "cell_type": "code",
   "execution_count": 34,
   "id": "1b1b34ae",
   "metadata": {},
   "outputs": [
    {
     "name": "stdout",
     "output_type": "stream",
     "text": [
      "50\n",
      "Title: 150\n"
     ]
    }
   ],
   "source": [
    "def test1(v):\n",
    "    print(v)\n",
    "    \n",
    "def test2(v):\n",
    "    print(\"Title:\",v)\n",
    "    \n",
    "def testFunc(func,v):\n",
    "    func(v)\n",
    "\n",
    "testFunc(test1,50)\n",
    "testFunc(test2,150)\n"
   ]
  },
  {
   "cell_type": "code",
   "execution_count": 35,
   "id": "df460540",
   "metadata": {},
   "outputs": [
    {
     "name": "stdout",
     "output_type": "stream",
     "text": [
      "50\n",
      "Test1: : 50\n",
      "Test2: : 155\n"
     ]
    }
   ],
   "source": [
    "def test1(v):\n",
    "    print(v)\n",
    "    return v\n",
    "    \n",
    "def test2(v):\n",
    "    #print(\"Title:\",v)\n",
    "    return v+5\n",
    "def testFunc(func,v,title):\n",
    "    res = func(v)\n",
    "    print(title,\":\",res)\n",
    "\n",
    "testFunc(test1,50,\"Test1:\")\n",
    "testFunc(test2,150,\"Test2:\")\n"
   ]
  },
  {
   "cell_type": "code",
   "execution_count": 36,
   "id": "d6abb1e6",
   "metadata": {},
   "outputs": [
    {
     "name": "stdout",
     "output_type": "stream",
     "text": [
      "57\n",
      "230\n"
     ]
    }
   ],
   "source": [
    "def sum1(c,e = 80,m = 60):\n",
    "    return c + e * 2 + m * 3\n",
    "v = sum1(20,11,5)\n",
    "print(v)\n",
    "\n",
    "v2 = sum1(c = 10,m = 20)\n",
    "print(v2)\n"
   ]
  },
  {
   "cell_type": "code",
   "execution_count": null,
   "id": "ba351452",
   "metadata": {},
   "outputs": [],
   "source": []
  }
 ],
 "metadata": {
  "kernelspec": {
   "display_name": "Python 3 (ipykernel)",
   "language": "python",
   "name": "python3"
  },
  "language_info": {
   "codemirror_mode": {
    "name": "ipython",
    "version": 3
   },
   "file_extension": ".py",
   "mimetype": "text/x-python",
   "name": "python",
   "nbconvert_exporter": "python",
   "pygments_lexer": "ipython3",
   "version": "3.8.11"
  }
 },
 "nbformat": 4,
 "nbformat_minor": 5
}
