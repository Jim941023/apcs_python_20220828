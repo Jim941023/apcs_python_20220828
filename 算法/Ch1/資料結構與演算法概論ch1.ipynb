{
 "cells": [
  {
   "cell_type": "code",
   "execution_count": 1,
   "id": "cfeee4e1",
   "metadata": {},
   "outputs": [
    {
     "name": "stdout",
     "output_type": "stream",
     "text": [
      "    *\n",
      "   **\n",
      "  ***\n",
      " ****\n",
      "*****\n"
     ]
    }
   ],
   "source": [
    "for i in range(1,6):\n",
    "    print(\" \"*(5-i),\"*\"*i, sep='')"
   ]
  },
  {
   "cell_type": "code",
   "execution_count": 1,
   "id": "c1298e31",
   "metadata": {},
   "outputs": [
    {
     "name": "stdout",
     "output_type": "stream",
     "text": [
      "    *\n",
      "   **\n",
      "  ***\n",
      " ****\n",
      "*****\n"
     ]
    }
   ],
   "source": [
    "for i in range(1,6):\n",
    "    for k in range(1,6-i):\n",
    "        print(\" \",end=\"\")\n",
    "    for x in range(0,i):\n",
    "        print(\"*\",end=\"\")\n",
    "    print()    "
   ]
  },
  {
   "cell_type": "code",
   "execution_count": 3,
   "id": "6a3b77cb",
   "metadata": {},
   "outputs": [
    {
     "name": "stdout",
     "output_type": "stream",
     "text": [
      "    A\n",
      "   BBB\n",
      "  CCCCC\n",
      " DDDDDDD\n",
      "EEEEEEEEE\n"
     ]
    }
   ],
   "source": [
    "for i in range(5):\n",
    "    print(' '*(4-i), chr(i+65)*(2*i+1), sep='')\n"
   ]
  },
  {
   "cell_type": "code",
   "execution_count": 4,
   "id": "1e98a6c1",
   "metadata": {},
   "outputs": [
    {
     "name": "stdout",
     "output_type": "stream",
     "text": [
      "*********\n",
      "**** ****\n",
      "***   ***\n",
      "**     **\n",
      "*       *\n",
      "**     **\n",
      "***   ***\n",
      "**** ****\n",
      "*********\n"
     ]
    }
   ],
   "source": [
    "for i in range(-4,5):\n",
    "    for j in range(-4,5):\n",
    "        if  4-abs(j) > abs(i): #\n",
    "            print(\" \",end='')\n",
    "        else:\n",
    "            print(\"*\",end='')\n",
    "    print()"
   ]
  },
  {
   "cell_type": "code",
   "execution_count": 6,
   "id": "4d45c920",
   "metadata": {},
   "outputs": [
    {
     "name": "stdout",
     "output_type": "stream",
     "text": [
      "********************\n",
      "*********  *********\n",
      "********    ********\n",
      "*******      *******\n",
      "******        ******\n",
      "*****          *****\n",
      "****            ****\n",
      "***              ***\n",
      "**                **\n",
      "*                  *\n",
      "                    \n",
      "*                  *\n",
      "**                **\n",
      "***              ***\n",
      "****            ****\n",
      "*****          *****\n",
      "******        ******\n",
      "*******      *******\n",
      "********    ********\n",
      "*********  *********\n",
      "\n"
     ]
    }
   ],
   "source": [
    "for i in range(0,10):\n",
    "    print(\"*\"*(10-i),\"  \"*i,\"*\"*(10-i),sep=\"\")\n",
    "\n",
    "for j in range(0,10):\n",
    "    print(\"*\"*j,\"  \"*(10-j),\"*\"*j,sep=\"\")\n",
    "print()\n"
   ]
  },
  {
   "cell_type": "code",
   "execution_count": 5,
   "id": "8fbff187",
   "metadata": {},
   "outputs": [
    {
     "name": "stdout",
     "output_type": "stream",
     "text": [
      "*\n",
      "**\n",
      "***\n",
      "1  1  \n",
      "22 22 \n",
      "333333\n",
      "A  A  A  \n",
      "BB BB BB \n",
      "CCCCCCCCC\n",
      "1  2  3  4  \n",
      "11 22 33 44 \n",
      "111222333444\n",
      "1  1  1  1  1  \n",
      "12 12 12 12 12 \n",
      "123123123123123\n"
     ]
    }
   ],
   "source": [
    "# 作業\n",
    "'''\n",
    "由i控制輸出類型\n",
    "*   i=1  j=1\n",
    "**  i=1. j=2\n",
    "*** i=1. j=3\n",
    "1  1   i=2 j=1\n",
    "22 22  i=2 j=2\n",
    "333333 i=2 j=3\n",
    "A  A  A  I=3 j=1\n",
    "BB BB BB I=3 j=2\n",
    "CCCCCCCCC I=3 j=3\n",
    "1  2  3  4  I=4 j=1\n",
    "11 22 33 44 I=4 j=2\n",
    "111222333444 I=4 j=3\n",
    "1  1  1  1  1  I=5 j=1\n",
    "12 12 12 12 12 I=5 j=2\n",
    "123123123123123 I=5 j=3\n",
    "'''\n",
    "\n",
    "for i in range(1,5+1):\n",
    "    for j in range(1,3+1):\n",
    "        for k in range(i):\n",
    "            if i==1 :\n",
    "                print(j*'*',end='')\n",
    "            if i==2 :\n",
    "                print(j*str(j)+(3-j)*' ',end='')\n",
    "            if i==3 :\n",
    "                print(j*chr(64+j)+(3-j)*' ',end='')\n",
    "            if i==4 :\n",
    "                print(j*str(k+1)+(3-j)*' ',end='')\n",
    "            if i==5 :\n",
    "                print('123'[0:j]+(3-j)*' ',end='')\n",
    "        print()\n"
   ]
  },
  {
   "cell_type": "code",
   "execution_count": 6,
   "id": "f29c4023",
   "metadata": {},
   "outputs": [
    {
     "name": "stdout",
     "output_type": "stream",
     "text": [
      "請輸入階乘數 : 5\n",
      "5  ! =  120\n"
     ]
    }
   ],
   "source": [
    "def factorial_iterative(n):\n",
    "    result = 1;\n",
    "    while n > 0:\n",
    "        result *= n;\n",
    "        n -= 1\n",
    "    return result;\n",
    "\n",
    "N = int(input(\"請輸入階乘數 : \"))\n",
    "print(N, \" ! = \", factorial_iterative(N))"
   ]
  },
  {
   "cell_type": "code",
   "execution_count": 8,
   "id": "f5e0b77b",
   "metadata": {},
   "outputs": [
    {
     "name": "stdout",
     "output_type": "stream",
     "text": [
      "請輸入階乘數 : 5\n",
      "5  ! =  120\n"
     ]
    }
   ],
   "source": [
    "def factorial_recusive(n):\n",
    "    if n == 1:\n",
    "        return 1\n",
    "    else:\n",
    "        return (n * factorial_recusive(n-1))\n",
    "\n",
    "N = int(input(\"請輸入階乘數 : \"))\n",
    "print(N, \" ! = \", factorial_recusive(N))"
   ]
  },
  {
   "cell_type": "code",
   "execution_count": null,
   "id": "81d73057",
   "metadata": {},
   "outputs": [],
   "source": [
    "def dec_to_bin(num): \n",
    "    l = []                                          # 創建一個空列表\n",
    "    while True:\n",
    "        num, reminder = divmod(num,2)               # 短除法，對2求，分別得到除數 和 餘數、這是 Python 的特有的一個內置方法，分別可以到商 及 餘數\n",
    "        l.append(str(reminder))                     # 把獲得的餘數 存入字符串\n",
    "        if num == 0:                                # 對應了前面的話，當商為 0時，就結束啦\n",
    "            return \"\".join(l[::-1])                 # 對列表中的字符串進行逆序拼接，得到一個二進位字符串\n",
    "\n",
    "def dec_to_oct(num):\n",
    "    l = []\n",
    "    if num<0: return \"-\"+ dec_to_bin(abs(num))      # 如過是負數，先轉換成正數\n",
    "    while True:\n",
    "        num, reminder = divmod(num,8)               # 短除法，對2求，分別得到除數 和 餘數、\n",
    "        l.append(str(reminder))                     # 把獲得的餘數 存入字符串\n",
    "        if num == 0:\n",
    "            return \"\".join(l[::-1])                 # 對列表中的字符串進行逆序拼接，得到一個二進位字符串\n",
    "\n",
    "def dec_to_hex(num):\n",
    "    base = ['0', '1', '2', '3', '4', '5', '6', '7',\n",
    "            '8', '9', 'A', 'B', 'C', 'D', 'E', 'F']\n",
    "    l = []\n",
    "    if num<0: return \"-\"+dec_to_hex(abs(num))\n",
    "    while True:\n",
    "        num,rem = divmod(num,16)                    # 求商 和 留餘數\n",
    "        l.append(base[rem])\n",
    "        if num == 0:\n",
    "            return \"\".join(l[::-1])\n",
    "\n",
    "testNum = int(input('輸入十進位整數:'))\n",
    "#print(\"二進位:\",dec_to_bin(testNum))\n",
    "#print(\"八進位:\",dec_to_oct(testNum))\n",
    "print(\"十六進位:\",dec_to_hex(testNum))\n"
   ]
  },
  {
   "cell_type": "code",
   "execution_count": 9,
   "id": "1f110f2c",
   "metadata": {},
   "outputs": [
    {
     "name": "stdout",
     "output_type": "stream",
     "text": [
      "首項1\n",
      "公差2\n",
      "項數5\n",
      "for Loop:\n",
      "1\t3\t5\t7\t9\t\n",
      "遞迴\n",
      "1\t3\t5\t7\t9\t\n"
     ]
    }
   ],
   "source": [
    "a1 = int(input(\"首項\"))\n",
    "d = int(input(\"公差\"))\n",
    "n = int(input(\"項數\"))\n",
    "print(\"for Loop:\")\n",
    "for i in range(n):\n",
    "    print(a1+i*d,end='\\t' )\n",
    "print()    \n",
    "def getAn(n):\n",
    "    if (n==1):\n",
    "        return a1\n",
    "    else:\n",
    "        return getAn(n-1) + d\n",
    "print(\"遞迴\")    \n",
    "for i in range(1,n+1):\n",
    "    print(getAn(i),end='\\t')\n",
    "print() "
   ]
  },
  {
   "cell_type": "code",
   "execution_count": 10,
   "id": "3545f619",
   "metadata": {},
   "outputs": [
    {
     "name": "stdout",
     "output_type": "stream",
     "text": [
      "首項1\n",
      "公比2\n",
      "項數5\n",
      "for Loop:\n",
      "1\t2\t4\t8\t16\t\n",
      "遞迴\n",
      "1\t2\t4\t8\t16\t\n"
     ]
    }
   ],
   "source": [
    "a1 = int(input(\"首項\"))\n",
    "r = int(input(\"公比\"))\n",
    "n = int(input(\"項數\"))\n",
    "print(\"for Loop:\")\n",
    "for i in range(n):\n",
    "    print(a1*r**i,end='\\t' )\n",
    "print()    \n",
    "def getAn(n):\n",
    "    if (n==1):\n",
    "        return a1\n",
    "    else:\n",
    "        return getAn(n-1)*r\n",
    "print(\"遞迴\")    \n",
    "for i in range(1,n+1):\n",
    "    print(getAn(i),end='\\t')\n",
    "print()   "
   ]
  },
  {
   "cell_type": "code",
   "execution_count": 11,
   "id": "d422065b",
   "metadata": {},
   "outputs": [
    {
     "name": "stdout",
     "output_type": "stream",
     "text": [
      "1\t3\t7\t15\t31\t63\t127\t\n",
      "1\t3\t7\t15\t31\t63\t127\t\n"
     ]
    }
   ],
   "source": [
    "a1, a2 = 1, 3\n",
    "print(a1, a2, sep='\\t', end='\\t')\n",
    "\n",
    "for i in range(3, 8):\n",
    "    a3 = 3*a2-2*a1\n",
    "    print(a3, end='\\t')\n",
    "    a1 = a2\n",
    "    a2 = a3\n",
    "print()\n",
    "\n",
    "def seqFunc(x):\n",
    "    if(x==1):\n",
    "        return 1\n",
    "    elif x==2:\n",
    "        return 3\n",
    "    else:\n",
    "        return 3*seqFunc(x-1)-2*seqFunc(x-2)\n",
    "\n",
    "for j in range(1, 8):\n",
    "    print(seqFunc(j), end='\\t')\n",
    "print()\n"
   ]
  },
  {
   "cell_type": "code",
   "execution_count": 12,
   "id": "d0848d9d",
   "metadata": {},
   "outputs": [
    {
     "name": "stdout",
     "output_type": "stream",
     "text": [
      "首項1\n",
      "公差2\n",
      "項數5\n",
      "for Loop:\n",
      "1\t3\t5\t7\t9\t=> 25\n",
      "遞迴:\n",
      "9\t7\t5\t3\t1\t=> 25\n"
     ]
    }
   ],
   "source": [
    "a1 = int(input(\"首項\"))\n",
    "d = int(input(\"公差\"))\n",
    "n = int(input(\"項數\"))\n",
    "sum1 = 0\n",
    "print(\"for Loop:\")\n",
    "for i in range(n):\n",
    "    ai = a1+i*d\n",
    "    sum1+=ai\n",
    "    print(ai,end='\\t')\n",
    "print(\"=>\",sum1)\n",
    "  \n",
    "def getAn(n):\n",
    "    if (n==1):\n",
    "        return a1\n",
    "    else:\n",
    "        return getAn(n-1) + d\n",
    "print(\"遞迴:\")\n",
    "sum2 = 0      \n",
    "def getSn(n):\n",
    "    if (n==1):\n",
    "        print(a1,end='\\t')\n",
    "        return a1\n",
    "    else:\n",
    "        an = getAn(n)\n",
    "        print(an,end='\\t')\n",
    "        return getSn(n-1) + an\n",
    "print(\"=>\",getSn(n))   "
   ]
  },
  {
   "cell_type": "code",
   "execution_count": 13,
   "id": "91c4e516",
   "metadata": {},
   "outputs": [
    {
     "name": "stdout",
     "output_type": "stream",
     "text": [
      "輸入首項:1\n",
      "輸入公比:2\n",
      "輸入項數:5\n",
      "使用For迴圈求等比數列前5項的和:\n",
      "1\t2\t4\t8\t16\t=> 31\n",
      "1\t2\t4\t8\t16\t=> 31\n",
      "使用遞迴求等比數列前5項的和:\n",
      "16\t8\t4\t2\t1\t=> 31\n"
     ]
    }
   ],
   "source": [
    "a1 = int(input('輸入首項:'))\n",
    "r = int(input('輸入公比:'))\n",
    "n = int(input('輸入項數:'))\n",
    "\n",
    "print('使用For迴圈求等比數列前%d項的和:' %n)\n",
    "sum1 = 0\n",
    "for i in range(n):\n",
    "    ai = a1*r**i\n",
    "    sum1 += ai\n",
    "    print(ai, end='\\t')\n",
    "print('=>', sum1)\n",
    "\n",
    "def getAn(n):\n",
    "    if(n==1):\n",
    "        return a1\n",
    "    else:\n",
    "        return getAn(n-1)*r\n",
    "    \n",
    "sum2 = 0\n",
    "for i in range(1, n+1):\n",
    "    ai = getAn(i)\n",
    "    sum2 += ai\n",
    "    print(ai, end='\\t')\n",
    "print('=>', sum2)\n",
    "\n",
    "def getSn(n):\n",
    "    if(n==1):\n",
    "        print(a1, end='\\t') \n",
    "        return a1\n",
    "    else:\n",
    "        an = getAn(n)\n",
    "        print(an, end='\\t')        \n",
    "        return getSn(n-1) + an\n",
    "\n",
    "print('使用遞迴求等比數列前%d項的和:' %n)\n",
    "print('=>', getSn(n))\n"
   ]
  },
  {
   "cell_type": "code",
   "execution_count": 14,
   "id": "a3ce9788",
   "metadata": {},
   "outputs": [
    {
     "name": "stdout",
     "output_type": "stream",
     "text": [
      "3+8+13+18+23+28+33 = 126\n",
      "3+8+13+18+23+28+33 = 126\n",
      "2-4+8-16+32-64+128-256+512-1024 = -682\n",
      "2-4+8-16+32-64+128-256+512-1024 = -682\n"
     ]
    }
   ],
   "source": [
    "# 作業\n",
    "s1 = 0\n",
    "for i in range(7):\n",
    "    s1 += 3+5*i\n",
    "print('3+8+13+18+23+28+33 =', s1)\n",
    "\n",
    "def serFunc1(x):\n",
    "    if x == 1:\n",
    "        return 3\n",
    "    else:\n",
    "        return serFunc1(x-1)+3+5*(x-1)#我知道目前的數是多少但不知道之前的是多少數值用遞迴算\n",
    "\n",
    "print('3+8+13+18+23+28+33 =', serFunc1(7))\n",
    "\n",
    "s2 = 0#首相是2公比是-2\n",
    "for k in range(10):\n",
    "    s2 += 2*(-2)**k\n",
    "print('2-4+8-16+32-64+128-256+512-1024 =', s2)\n",
    "\n",
    "def serFunc2(y):\n",
    "    if y==1:\n",
    "        return 2\n",
    "    else:\n",
    "        return serFunc2(y-1)-(-2)**y\n",
    "\n",
    "print('2-4+8-16+32-64+128-256+512-1024 =', serFunc2(10))\n"
   ]
  },
  {
   "cell_type": "code",
   "execution_count": 7,
   "id": "32ccecbb",
   "metadata": {},
   "outputs": [
    {
     "name": "stdout",
     "output_type": "stream",
     "text": [
      "輸入n5\n",
      "for Loop:\n",
      "1*2\t2*3\t3*4\t4*5\t=> 40\n",
      "遞迴\n",
      "5*4\t4*3\t3*2\t2*1\t=> 40\n"
     ]
    }
   ],
   "source": [
    "n = int(input(\"輸入n\"))\n",
    "print(\"for Loop:\")\n",
    "sum1 = 0\n",
    "for i in range(2,n+1):\n",
    "    ai = (i-1) * (i)\n",
    "    sum1 += ai\n",
    "    print(f\"{i-1}*{i}\",end='\\t')\n",
    "print(\"=>\",sum1)    \n",
    "\n",
    "\n",
    "def getSum(n):\n",
    "    if (n==1 or n==0):\n",
    "        return 0\n",
    "    else:\n",
    "        print(f\"{n}*{n-1}\",end='\\t')\n",
    "        return getSum(n-1) + n * (n-1) \n",
    "print(\"遞迴\")    \n",
    "print(\"=>\",getSum(n))"
   ]
  },
  {
   "cell_type": "code",
   "execution_count": 15,
   "id": "cfd1815b",
   "metadata": {},
   "outputs": [
    {
     "name": "stdout",
     "output_type": "stream",
     "text": [
      "1+2+...+99+100 =\n",
      "=> 5050\n",
      "=> 5050\n",
      "1~10平方和\n",
      "=> 385\n",
      "=> 385\n"
     ]
    }
   ],
   "source": [
    "sum1 = 0\n",
    "for i in range(1, 101):\n",
    "    sum1 += i\n",
    "print('1+2+...+99+100 =')\n",
    "print(\"=>\", sum1)\n",
    "\n",
    "def incrementSum(n):\n",
    "    if n==1:\n",
    "        return 1\n",
    "    else:\n",
    "        return incrementSum(n-1) + n\n",
    "\n",
    "print(\"=>\", incrementSum(100))\n",
    "\n",
    "sum2 = 0\n",
    "for j in range(1, 11):\n",
    "    sum2 += j*j\n",
    "print('1~10平方和')\n",
    "print(\"=>\", sum2)\n",
    "\n",
    "def squareSum(n):\n",
    "    if n==1:\n",
    "        return 1\n",
    "    else:\n",
    "        return squareSum(n-1) + n*n\n",
    "\n",
    "print(\"=>\", squareSum(10))\n"
   ]
  },
  {
   "cell_type": "code",
   "execution_count": null,
   "id": "d284ba4d",
   "metadata": {},
   "outputs": [],
   "source": []
  }
 ],
 "metadata": {
  "kernelspec": {
   "display_name": "Python 3 (ipykernel)",
   "language": "python",
   "name": "python3"
  },
  "language_info": {
   "codemirror_mode": {
    "name": "ipython",
    "version": 3
   },
   "file_extension": ".py",
   "mimetype": "text/x-python",
   "name": "python",
   "nbconvert_exporter": "python",
   "pygments_lexer": "ipython3",
   "version": "3.8.11"
  }
 },
 "nbformat": 4,
 "nbformat_minor": 5
}
