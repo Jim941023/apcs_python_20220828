{
 "cells": [
  {
   "cell_type": "markdown",
   "id": "61e760b9",
   "metadata": {},
   "source": [
    "## 身份證字號驗證"
   ]
  },
  {
   "cell_type": "code",
   "execution_count": 1,
   "id": "d535b04f",
   "metadata": {},
   "outputs": [
    {
     "name": "stdout",
     "output_type": "stream",
     "text": [
      "輸入身分證字號:A123456789\n",
      "先生您好!\n",
      "出生地: 臺北市\n"
     ]
    }
   ],
   "source": [
    "places = {'A':(10, '臺北市'), 'B':(11, '臺中市'), 'C':(12, '基隆市'), 'D':(13, '臺南市'),\n",
    "          'E':(14, '高雄市'), 'F':(15, '新北市'), 'G':(16, '宜蘭縣'), 'H':(17, '桃園市'),\n",
    "          'I':(34, '嘉義市'), 'J':(18, '新竹縣'), 'K':(19, '苗栗縣'), 'M':(21, '南投縣'),\n",
    "          'N':(22, '彰化縣'), 'O':(35, '新竹市'), 'P':(23, '雲林縣'), 'Q':(24, '嘉義縣'),\n",
    "          'T':(27, '屏東縣'), 'U':(28, '花蓮縣'), 'V':(29, '臺東縣'), 'W':(32, '金門縣'),\n",
    "          'X':(30, '澎湖縣'), 'Z':(33, '連江縣'),\n",
    "          'L':(20, '臺中縣'), 'R':(25, '臺南縣'), 'S':(26, '高雄縣'), 'Y':(31, '陽明山')}\n",
    "\n",
    "weight = [8,7,6,5,4,3,2,1,1]\n",
    "\n",
    "def isValidId(pid):\n",
    "    if(pid[0] not in places):\n",
    "        return False\n",
    "    if(pid[1]!='1' and pid[1]!='2'):\n",
    "        return False\n",
    "    checkSum = 0\n",
    "    checkSum = p2sum(places[pid[0]][0])#取得地區的數字\n",
    "    for i in range(1, 10):\n",
    "        checkSum += int(pid[i])*weight[i-1]\n",
    "    if(checkSum%10==0):\n",
    "        return True\n",
    "    else:\n",
    "        return False\n",
    "# 取得num//10 開頭\n",
    "#取得num%10取得尾\n",
    "def p2sum(num):\n",
    "    return num//10*1+num%10*9\n",
    "\n",
    "pid = input('輸入身分證字號:')\n",
    "\n",
    "if(isValidId(pid)):\n",
    "    gender = int(pid[1])\n",
    "    birth = pid[0]\n",
    "    if(gender == 1):\n",
    "        print('先生您好!')\n",
    "    else:\n",
    "        print('小姐您好!')\n",
    "    print('出生地:', places[birth][1])\n",
    "else:\n",
    "    print('身份證字號無效:%s' %pid)\n"
   ]
  },
  {
   "cell_type": "markdown",
   "id": "be3c199e",
   "metadata": {},
   "source": [
    "## 英文字母接龍"
   ]
  },
  {
   "cell_type": "code",
   "execution_count": 2,
   "id": "de333f51",
   "metadata": {},
   "outputs": [
    {
     "name": "stdout",
     "output_type": "stream",
     "text": [
      "字母接龍\n",
      "請輸入字串:Python\n",
      "目前字串:Python\n",
      "請輸入-N-開始的字串:new\n",
      "目前字串:Python-new\n",
      "請輸入-W-開始的字串:who\n",
      "目前字串:Python-new-who\n",
      "請輸入-O-開始的字串:ox\n",
      "目前字串:Python-new-who-ox\n",
      "請輸入-X-開始的字串:vv\n",
      "輸入錯誤1次\n",
      "目前字串:Python-new-who-ox\n",
      "請輸入-X-開始的字串:vvv\n",
      "輸入錯誤2次\n",
      "目前字串:Python-new-who-ox\n",
      "請輸入-X-開始的字串:vvv\n",
      "輸入錯誤3次\n",
      "目前字串:Python-new-who-ox\n",
      "請輸入-X-開始的字串:vvv\n",
      "輸入錯誤4次\n",
      "目前字串:Python-new-who-ox\n",
      "請輸入-X-開始的字串:vvv\n",
      "輸入錯誤5次\n",
      "錯誤超過五次,遊戲結束!\n"
     ]
    }
   ],
   "source": [
    "str_result=input('字母接龍\\n請輸入字串:')\n",
    "eCount=0\n",
    "while(eCount<5):    \n",
    "    print('目前字串:%s' %str_result)\n",
    "    str_in = input('請輸入-%s-開始的字串:' %str_result[-1].upper())\n",
    "    if(str_in[0].lower()==str_result[-1].lower()):\n",
    "        str_result+=\"-\"+str_in\n",
    "    else:\n",
    "        eCount += 1\n",
    "        print('輸入錯誤%d次' %eCount)\n",
    "\n",
    "print('錯誤超過五次,遊戲結束!')"
   ]
  },
  {
   "cell_type": "markdown",
   "id": "c887b7da",
   "metadata": {},
   "source": [
    "## Sort排序"
   ]
  },
  {
   "cell_type": "code",
   "execution_count": null,
   "id": "288f18d3",
   "metadata": {},
   "outputs": [],
   "source": [
    "\n",
    "cars = ['honda','BMW','Toyota','audi']\n",
    "\n",
    "print(\"排序之前:\", cars)\n",
    "cars.sort()\n",
    "print(\"排序之後:\", cars)\n",
    "cars.sort(reverse=True)\n",
    "print(\"反向排序:\", cars)\n",
    "cars.sort(key=len)\n",
    "print(\"長度排序:\", cars)\n",
    "cars.sort(key=lambda v: (v.upper(), v))\n",
    "print(\"小寫排序:\", cars)"
   ]
  },
  {
   "cell_type": "code",
   "execution_count": null,
   "id": "602ca903",
   "metadata": {},
   "outputs": [],
   "source": [
    "admin = {\"Justin\",\"David\"}\n",
    "users = {\"Mary\",\"Nicole\",'Justin'}\n",
    "print(f\"admin len:{len(admin)}\")\n",
    "print(f\"users len:{len(users)}\")\n",
    "print(f\"Justin是否為admins:{'Justin' in admin}\")\n",
    "print(f\"David是否為User:{'David' in users}\")"
   ]
  },
  {
   "cell_type": "code",
   "execution_count": 3,
   "id": "ae1fda32",
   "metadata": {},
   "outputs": [
    {
     "name": "stdout",
     "output_type": "stream",
     "text": [
      "User 集合: {'Nicole', 'Mary', 'Justin'}\n",
      "加入Sean\n",
      "User 集合: {'Nicole', 'Mary', 'Sean', 'Justin'}\n",
      "加入Mary\n",
      "User 集合: {'Nicole', 'Mary', 'Sean', 'Justin'}\n",
      "移除Sean\n",
      "User 集合: {'Nicole', 'Mary', 'Justin'}\n",
      "丟棄Mary\n",
      "User 集合: {'Nicole', 'Justin'}\n",
      "彈出: Nicole\n",
      "User 集合: {'Justin'}\n",
      "清空: None\n",
      "User 集合: set()\n"
     ]
    }
   ],
   "source": [
    "users={'Mary','Nicole','Justin'}\n",
    "print(\"User 集合:\", users)\n",
    "\n",
    "users.add('Sean')\n",
    "print(\"加入Sean\")\n",
    "print(\"User 集合:\", users)\n",
    "users.add('Mary')\n",
    "print(\"加入Mary\")\n",
    "print(\"User 集合:\", users)\n",
    "\n",
    "users.remove('Sean')\n",
    "print(\"移除Sean\")\n",
    "print(\"User 集合:\", users)\n",
    "#users.remove('Sean')\n",
    "\n",
    "users.discard('Mary')\n",
    "print(\"丟棄Mary\")\n",
    "print(\"User 集合:\", users)\n",
    "#users.discard('Mary')\n",
    "\n",
    "popped = users.pop()\n",
    "print(\"彈出:\", popped)\n",
    "print(\"User 集合:\", users)\n",
    "print(\"清空:\", users.clear())\n",
    "print(\"User 集合:\", users)\n",
    "#users.pop()\n",
    "#print(\"User 集合:\", users)\n"
   ]
  },
  {
   "cell_type": "code",
   "execution_count": 4,
   "id": "366bab45",
   "metadata": {},
   "outputs": [
    {
     "name": "stdout",
     "output_type": "stream",
     "text": [
      "交集: {'Justin'}\n",
      "聯集: {'Mary', 'Justin', 'Nicole', 'David'}\n",
      "差集: {'David'}\n",
      "差集: {'Nicole', 'Mary'}\n",
      "對稱差集: {'Nicole', 'Mary', 'David'}\n"
     ]
    }
   ],
   "source": [
    "admins={'Justin','David'}\n",
    "users={'Mary','Nicole','Justin'}\n",
    "\n",
    "#intersect = admins & users\n",
    "intersect = admins.intersection(users)\n",
    "print(\"交集:\", intersect)\n",
    "\n",
    "#union = admins | users\n",
    "union = admins.union(users)\n",
    "print(\"聯集:\", union)\n",
    "\n",
    "#difference1 = admins - users\n",
    "difference1 = admins.difference(users)\n",
    "print(\"差集:\", difference1)\n",
    "#difference2 = users - admins\n",
    "difference2 = users.difference(admins)\n",
    "print(\"差集:\", difference2)\n",
    "\n",
    "#sym_difference = admins ^ users\n",
    "sym_difference = admins.symmetric_difference(users)\n",
    "print(\"對稱差集:\", sym_difference)\n"
   ]
  },
  {
   "cell_type": "markdown",
   "id": "67349fc6",
   "metadata": {},
   "source": [
    "## 字典"
   ]
  },
  {
   "cell_type": "code",
   "execution_count": 6,
   "id": "09776362",
   "metadata": {},
   "outputs": [
    {
     "name": "stdout",
     "output_type": "stream",
     "text": [
      "查詢前成績: {'Ch': 100, 'En': 80, 'Ma': 95, 'Na': 90}\n",
      "國語考100分\n",
      "英文考N/A分\n",
      "數學考95分\n",
      "社會考N/A分\n",
      "查詢後成績: {'Ch': 100, 'En': 80, 'Na': 90}\n"
     ]
    }
   ],
   "source": [
    "scores={'Ch':100,'En':80, 'Ma':95, 'Na': 90}\n",
    "print(\"查詢前成績:\", scores)\n",
    "\n",
    "ch_score = scores.get('Ch')\n",
    "print('國語考%s分' %ch_score)\n",
    "en_score = scores.get('EN', 'N/A')\n",
    "print('英文考%s分' %en_score)\n",
    "ma_score = scores.pop('Ma', 'N/A')\n",
    "print('數學考%s分' %ma_score)\n",
    "so_score = scores.pop('so', 'N/A')\n",
    "print('社會考%s分' %so_score)\n",
    "\n",
    "print(\"查詢後成績:\", scores)\n"
   ]
  },
  {
   "cell_type": "code",
   "execution_count": 5,
   "id": "e94fa1c5",
   "metadata": {},
   "outputs": [
    {
     "name": "stdout",
     "output_type": "stream",
     "text": [
      "查詢前成績: {'Ch': 100, 'En': 80, 'Ma': 95, 'Na': 90}\n",
      "刪除Ch成績: {'En': 80, 'Ma': 95, 'Na': 90}\n",
      "清空成績: {}\n"
     ]
    },
    {
     "ename": "NameError",
     "evalue": "name 'scores' is not defined",
     "output_type": "error",
     "traceback": [
      "\u001b[1;31m---------------------------------------------------------------------------\u001b[0m",
      "\u001b[1;31mNameError\u001b[0m                                 Traceback (most recent call last)",
      "Input \u001b[1;32mIn [5]\u001b[0m, in \u001b[0;36m<cell line: 11>\u001b[1;34m()\u001b[0m\n\u001b[0;32m      8\u001b[0m \u001b[38;5;28mprint\u001b[39m(\u001b[38;5;124m\"\u001b[39m\u001b[38;5;124m清空成績:\u001b[39m\u001b[38;5;124m\"\u001b[39m, scores)\n\u001b[0;32m     10\u001b[0m \u001b[38;5;28;01mdel\u001b[39;00m scores\n\u001b[1;32m---> 11\u001b[0m \u001b[38;5;28mprint\u001b[39m(\u001b[38;5;124m\"\u001b[39m\u001b[38;5;124m刪除變數:\u001b[39m\u001b[38;5;124m\"\u001b[39m, \u001b[43mscores\u001b[49m)\n",
      "\u001b[1;31mNameError\u001b[0m: name 'scores' is not defined"
     ]
    }
   ],
   "source": [
    "scores={'Ch':100,'En':80, 'Ma':95, 'Na': 90}\n",
    "print(\"查詢前成績:\", scores)\n",
    "\n",
    "del scores['Ch']\n",
    "print(\"刪除Ch成績:\", scores)\n",
    "\n",
    "scores.clear()\n",
    "print(\"清空成績:\", scores)\n",
    "\n",
    "del scores\n",
    "print(\"刪除變數:\", scores)"
   ]
  },
  {
   "cell_type": "code",
   "execution_count": 8,
   "id": "0f64cc13",
   "metadata": {},
   "outputs": [
    {
     "name": "stdout",
     "output_type": "stream",
     "text": [
      "科目排序: ['Ch', 'En', 'Ma']\n",
      "成績排序: [80, 95, 100]\n",
      "科目反向排序: ['Ma', 'En', 'Ch']\n",
      "成績反向排序: [100, 95, 80]\n",
      "Ch : 100\n",
      "En : 80\n",
      "Ma : 95\n"
     ]
    }
   ],
   "source": [
    "scores={'Ch':100,'En':80, 'Ma':95}\n",
    "print(\"科目排序:\", sorted(scores))\n",
    "print(\"成績排序:\", sorted(scores.values()))\n",
    "\n",
    "print(\"科目反向排序:\", sorted(scores,reverse = True))\n",
    "print(\"成績反向排序:\", sorted(scores.values(),reverse = True))\n",
    "keys = sorted(scores)\n",
    "for k in keys:\n",
    "    print(k,\":\",scores[k])"
   ]
  },
  {
   "cell_type": "markdown",
   "id": "803abc9d",
   "metadata": {},
   "source": [
    "# 作業：英文單字出現次數"
   ]
  },
  {
   "cell_type": "code",
   "execution_count": null,
   "id": "02c6d106",
   "metadata": {},
   "outputs": [],
   "source": [
    "song = \"\"\"Are you sleeping, are you sleeping, Brother John, Brother John?\n",
    "Morning bells are ringing, morning bells are ringing.\n",
    "Ding ding dong, Ding ding dong.\"\"\"\n",
    "dict = {}                           # 空字典未來儲存單字計數結果\n",
    "print(\"原始歌詞\")\n",
    "print(song)\n",
    "\n",
    "# 將歌曲大寫字母改成小寫\n",
    "songLower = song.lower()            # 歌曲改為小寫\n",
    "print(\"小寫歌詞\")\n",
    "print(songLower)\n",
    "\n",
    "# 去掉標點符號\n",
    "for ch in songLower:                \n",
    "    if ch in \".,?\":                 # 將歌曲的標點符號用空字元取代\n",
    "        songLower = songLower.replace(ch,'')\n",
    "print(\"去掉標點符號\")    \n",
    "print(songLower)\n",
    "\n",
    "# 將歌曲字串轉成串列\n",
    "songList = songLower.split()        \n",
    "print(\"轉換成串列\")\n",
    "print(songList)                     # 列印歌曲串列\n",
    "\n",
    "# 將歌曲串列處理成字典 \n",
    "for wd in songList:                 \n",
    "    if wd in dict:              # 檢查此字是否已在字典內\n",
    "        dict[wd] += 1           # 累計出現次數\n",
    "    else:\n",
    "        dict[wd] = 1            # 第一次出現的字建立此鍵與值\n",
    "    \n",
    "print(\"單字及出現次數\")\n",
    "print(dict)                         # 列印字典\n"
   ]
  },
  {
   "cell_type": "markdown",
   "id": "abc27f19",
   "metadata": {},
   "source": [
    "## 套件"
   ]
  },
  {
   "cell_type": "code",
   "execution_count": 9,
   "id": "7bc3bb94",
   "metadata": {},
   "outputs": [
    {
     "name": "stdout",
     "output_type": "stream",
     "text": [
      "3\n",
      "請猜1~5的數字:３\n",
      "答對了\n"
     ]
    }
   ],
   "source": [
    "import random\n",
    "\n",
    "ans = random.randint(1,5)\n",
    "print(ans)\n",
    "guess = int(input(\"請猜1~5的數字:\"))\n",
    "if guess == ans:\n",
    "    print(\"答對了\")\n",
    "else:\n",
    "    print(\"錯了\")\n"
   ]
  },
  {
   "cell_type": "code",
   "execution_count": 10,
   "id": "3bf8e84c",
   "metadata": {},
   "outputs": [
    {
     "name": "stdout",
     "output_type": "stream",
     "text": [
      "314.159\n",
      "82.4\n",
      "您的體重正常\n"
     ]
    }
   ],
   "source": [
    "import calculator as cau #取別名\n",
    "import calculator\n",
    "from calculator  import calcBmi,getMessage\n",
    "\n",
    "area = calculator.calcArea(10)\n",
    "print(area)\n",
    "tf = cau.toFahrenheit(28)\n",
    "print(tf)\n",
    "\n",
    "bmi = calcBmi(180,72)\n",
    "msg = getMessage(bmi)\n",
    "print(msg)\n",
    "\n"
   ]
  },
  {
   "cell_type": "markdown",
   "id": "274fe918",
   "metadata": {},
   "source": [
    "## 例外"
   ]
  },
  {
   "cell_type": "code",
   "execution_count": 12,
   "id": "5749f91e",
   "metadata": {},
   "outputs": [
    {
     "name": "stdout",
     "output_type": "stream",
     "text": [
      "分母不可為0\n"
     ]
    }
   ],
   "source": [
    "num1 = 10\n",
    "num2 = 0\n",
    "nums = [1,3,5,7,9]\n",
    "#print(\"out\" 語法錯誤\n",
    "try:\n",
    "    print(num1/num2)    \n",
    "    nums[100]#例外錯誤\n",
    "except IndexError:\n",
    "    print(\"IndexError ~~~index錯啦\")\n",
    "except ZeroDivisionError:\n",
    "    print(\"分母不可為0\")"
   ]
  },
  {
   "cell_type": "code",
   "execution_count": 13,
   "id": "9afe9a77",
   "metadata": {},
   "outputs": [
    {
     "name": "stdout",
     "output_type": "stream",
     "text": [
      "10.0\n",
      "Error沒發生\n"
     ]
    }
   ],
   "source": [
    "num1 = 10\n",
    "num2 = 0\n",
    "nums = [1,3,5,7,9]\n",
    "try:\n",
    "    print(num1 / (num2+1))\n",
    "except:\n",
    "    print(\"Error發生\")\n",
    "else:\n",
    "    print(\"Error沒發生\")\n"
   ]
  },
  {
   "cell_type": "code",
   "execution_count": 14,
   "id": "9649c962",
   "metadata": {},
   "outputs": [
    {
     "name": "stdout",
     "output_type": "stream",
     "text": [
      "10.0\n",
      "Error發生，使用沒有宣告過的變數\n",
      "結束\n"
     ]
    }
   ],
   "source": [
    "num1 = 10\n",
    "num2 = 1\n",
    "nums = [1,3,5,7,9]\n",
    "try:\n",
    "    print(num1/num2)\n",
    "    print(num1*num3)\n",
    "    print(nums[100])\n",
    "except ZeroDivisionError:\n",
    "    print('Error發生，除以0')\n",
    "except NameError:\n",
    "    print('Error發生，使用沒有宣告過的變數')\n",
    "except IndexError:\n",
    "    print('Error發生，索引值超出範圍')\n",
    "except:\n",
    "    print('Error發生')\n",
    "finally:#一定會執行一次\n",
    "    print('結束')\n"
   ]
  },
  {
   "cell_type": "code",
   "execution_count": 15,
   "id": "554c4d06",
   "metadata": {},
   "outputs": [
    {
     "name": "stdout",
     "output_type": "stream",
     "text": [
      "輸入成績:60\n",
      "及格\n",
      "考試結果: 60\n"
     ]
    }
   ],
   "source": [
    "def getResult(score):\n",
    "    if 60 <= score <=100:\n",
    "        print(\"及格\")\n",
    "    elif 0<= score < 60:\n",
    "        print(\"不及格\")\n",
    "    else:\n",
    "        raise OverflowError\n",
    "score = int(input(\"輸入成績:\"))\n",
    "try:\n",
    "    getResult(score)\n",
    "except OverflowError:\n",
    "    print(\"錯誤的數值\")\n",
    "else:\n",
    "    print(\"考試結果:\",score)\n"
   ]
  },
  {
   "cell_type": "code",
   "execution_count": 16,
   "id": "f9ebabfc",
   "metadata": {},
   "outputs": [
    {
     "name": "stdout",
     "output_type": "stream",
     "text": [
      "輸入成績:-10\n",
      "成績錯誤\n"
     ]
    }
   ],
   "source": [
    "def getResult(score):\n",
    "    if 60 <= score <=100:\n",
    "        print(\"及格\")\n",
    "    elif 0<= score < 60:\n",
    "        print(\"不及格\")\n",
    "    else:\n",
    "        raise OverflowError(\"成績錯誤\")\n",
    "score = int(input(\"輸入成績:\"))\n",
    "try:\n",
    "    getResult(score)\n",
    "except OverflowError as e:\n",
    "    print(e)\n",
    "else:\n",
    "    print(\"考試結果:\",score)\n"
   ]
  },
  {
   "cell_type": "code",
   "execution_count": 17,
   "id": "e10a324c",
   "metadata": {},
   "outputs": [
    {
     "name": "stdout",
     "output_type": "stream",
     "text": [
      "<__main__.Employee object at 0x00000228664D0D60>\n",
      "Sean\n",
      "50000\n",
      "emp2 name: David\n"
     ]
    },
    {
     "ename": "AttributeError",
     "evalue": "'Employee' object has no attribute 'salary'",
     "output_type": "error",
     "traceback": [
      "\u001b[1;31m---------------------------------------------------------------------------\u001b[0m",
      "\u001b[1;31mAttributeError\u001b[0m                            Traceback (most recent call last)",
      "Input \u001b[1;32mIn [17]\u001b[0m, in \u001b[0;36m<cell line: 14>\u001b[1;34m()\u001b[0m\n\u001b[0;32m     12\u001b[0m emp2\u001b[38;5;241m.\u001b[39mname \u001b[38;5;241m=\u001b[39m \u001b[38;5;124m\"\u001b[39m\u001b[38;5;124mDavid\u001b[39m\u001b[38;5;124m\"\u001b[39m\n\u001b[0;32m     13\u001b[0m \u001b[38;5;28mprint\u001b[39m(\u001b[38;5;124m\"\u001b[39m\u001b[38;5;124memp2 name:\u001b[39m\u001b[38;5;124m\"\u001b[39m,emp2\u001b[38;5;241m.\u001b[39mname)\n\u001b[1;32m---> 14\u001b[0m \u001b[38;5;28mprint\u001b[39m(\u001b[38;5;124m\"\u001b[39m\u001b[38;5;124memp2 salary:\u001b[39m\u001b[38;5;124m\"\u001b[39m,\u001b[43memp2\u001b[49m\u001b[38;5;241;43m.\u001b[39;49m\u001b[43msalary\u001b[49m)\n",
      "\u001b[1;31mAttributeError\u001b[0m: 'Employee' object has no attribute 'salary'"
     ]
    }
   ],
   "source": [
    "class Employee:\n",
    "    pass\n",
    "\n",
    "emp = Employee()\n",
    "emp.name = \"Sean\"\n",
    "emp.salary = 50000\n",
    "print(emp)\n",
    "print(emp.name)\n",
    "print(emp.salary)\n",
    "\n",
    "emp2 = Employee()\n",
    "emp2.name = \"David\"\n",
    "print(\"emp2 name:\",emp2.name)\n",
    "print(\"emp2 salary:\",emp2.salary)\n"
   ]
  },
  {
   "cell_type": "code",
   "execution_count": 18,
   "id": "23aef0d4",
   "metadata": {},
   "outputs": [
    {
     "name": "stdout",
     "output_type": "stream",
     "text": [
      "研發部\n",
      "Name: Ken\n",
      "Salary: 35000\n",
      "業務部\n",
      "Name: Lucy\n",
      "Salary: 37000\n"
     ]
    }
   ],
   "source": [
    "class Employee:\n",
    "    def __init__(self,name,salary=20000):\n",
    "        #print(id(self))\n",
    "        #print(\"__init__\")\n",
    "        self.name = name\n",
    "        self.salary = salary\n",
    "        \n",
    "    def printInfo(self,title):\n",
    "         print(title)\n",
    "         print(\"Name:\",self.name)\n",
    "         print(\"Salary:\",self.salary)\n",
    "    \n",
    "\n",
    "emp1 = Employee(\"Ken\",35000)\n",
    "emp2 = Employee(\"Lucy\",37000)\n",
    "#print(id(emp1))\n",
    "#print(emp1.name)\n",
    "#print(emp1.salary)\n",
    "emp1.printInfo(\"研發部\")\n",
    "emp2.printInfo(\"業務部\")\n"
   ]
  },
  {
   "cell_type": "code",
   "execution_count": 19,
   "id": "24d7d5fa",
   "metadata": {},
   "outputs": [
    {
     "name": "stdout",
     "output_type": "stream",
     "text": [
      "Hello, Amy\n",
      "Hello, Amy\n"
     ]
    }
   ],
   "source": [
    "class Person:\n",
    "    def __init__(self,name):\n",
    "        self.name = name\n",
    "    def sayHello(self):\n",
    "        print(\"Hello,\",self.name)\n",
    "        \n",
    "p1 = Person(\"Amy\")\n",
    "greet = p1.sayHello #當作是一個 屬性內放了一個function物件\n",
    "greet()\n",
    "\n",
    "Person.sayHello(p1)"
   ]
  },
  {
   "cell_type": "code",
   "execution_count": 21,
   "id": "9504feba",
   "metadata": {},
   "outputs": [
    {
     "name": "stdout",
     "output_type": "stream",
     "text": [
      "巨匠電腦\n",
      "姓名: Sean\n",
      "薪水: 50000\n",
      "電話: 02 2314537\n",
      "姓名: David\n",
      "薪水: 20000\n",
      "電話: 02 2314537\n",
      "姓名: Iris\n",
      "薪水: 50000\n",
      "電話: 02 2314537\n",
      "姓名: David\n",
      "薪水: 20000\n",
      "電話: 02 2314537\n",
      "============================\n",
      "姓名: Iris\n",
      "薪水: 50000\n",
      "電話: 07 5591633\n",
      "姓名: David\n",
      "薪水: 20000\n",
      "電話: 07 5591633\n"
     ]
    }
   ],
   "source": [
    "class Employee:\n",
    "    company = \"巨匠電腦\"\n",
    "    phone = '02 2314537'\n",
    "    def __init__(self,name,salary = 20000):\n",
    "        self.name = name\n",
    "        self.salary = salary\n",
    "    def printInfo(self):\n",
    "        print(\"姓名:\",self.name)\n",
    "        print(\"薪水:\",self.salary)\n",
    "        print(\"電話:\",Employee.phone)\n",
    "emp1 = Employee(\"Sean\",50000)\n",
    "emp2 = Employee(\"David\")\n",
    "print(Employee.company)\n",
    "emp1.printInfo()\n",
    "emp2.printInfo()\n",
    "\n",
    "emp1.name = \"Iris\"\n",
    "emp1.printInfo()\n",
    "emp2.printInfo()\n",
    "print(\"============================\")\n",
    "Employee.phone = \"07 5591633\" #類別屬性對於物件來說記憶體共享\n",
    "\n",
    "emp1.printInfo()\n",
    "emp2.printInfo()"
   ]
  },
  {
   "cell_type": "code",
   "execution_count": 25,
   "id": "bb35df7c",
   "metadata": {},
   "outputs": [
    {
     "name": "stdout",
     "output_type": "stream",
     "text": [
      "3\n"
     ]
    }
   ],
   "source": [
    "class Employee:\n",
    "    company = \"巨匠電腦\"\n",
    "    phone = '02 2314537'\n",
    "    count = 0\n",
    "    def __init__(self,name,salary = 20000):\n",
    "        self.name = name\n",
    "        self.salary = salary\n",
    "        Employee.count+=1\n",
    "    def printInfo(self):\n",
    "        print(\"姓名:\",self.name)\n",
    "        print(\"薪水:\",self.salary)\n",
    "        print(\"電話:\",Employee.phone)\n",
    "    def getTotal():\n",
    "        return Employee.count\n",
    "    \n",
    "emp1 = Employee(\"Sean\",50000)\n",
    "emp2 = Employee(\"Tom\",60000)\n",
    "emp3 = Employee(\"Iris\",40000)\n",
    "\n",
    "print(Employee.getTotal())\n"
   ]
  },
  {
   "cell_type": "code",
   "execution_count": 23,
   "id": "4b44fe43",
   "metadata": {},
   "outputs": [
    {
     "name": "stdout",
     "output_type": "stream",
     "text": [
      "類別所屬類別: <class 'type'>\n",
      "類別所屬模組: __main__\n",
      "類別名稱: Student\n",
      "類別的父類別: (<class 'object'>,)\n",
      "類別空間字典: {'__module__': '__main__', '__doc__': '學生類別', 'school': 'pcschool', 'count': 0, '__init__': <function Student.__init__ at 0x0000022868045310>, 'displayCount': <function Student.displayCount at 0x00000228680454C0>, '__printInfo__': <function Student.__printInfo__ at 0x0000022868045550>, '__dict__': <attribute '__dict__' of 'Student' objects>, '__weakref__': <attribute '__weakref__' of 'Student' objects>}\n",
      "類別文件字串: 學生類別\n",
      "方法文件字串: 選示學生人數\n",
      "\n",
      "物件所屬類別: <class '__main__.Student'>\n",
      "物件所屬模組: __main__\n",
      "物件空間字典: {'name': 'Sean'}\n",
      "物件文件字串: 學生類別\n",
      "方法文件字串: 選示學生人數\n"
     ]
    }
   ],
   "source": [
    "class Student:\n",
    "    '''學生類別'''\n",
    "    school=\"pcschool\"\n",
    "    count=0\n",
    "    def __init__(self, name):\n",
    "        self.name = name\n",
    "        Student.count += 1\n",
    "    def displayCount(self):\n",
    "        \"\"\"選示學生人數\"\"\"\n",
    "        print(\"學生人數:  %d\" % Student.count)\n",
    "    def __printInfo__(self):\n",
    "        return (\"姓名: \"+self.name)\n",
    "\n",
    "print(\"類別所屬類別:\", Student.__class__)\n",
    "print(\"類別所屬模組:\", Student.__module__)\n",
    "print(\"類別名稱:\", Student.__name__)\n",
    "print(\"類別的父類別:\", Student.__bases__)\n",
    "print(\"類別空間字典:\", Student.__dict__)\n",
    "print(\"類別文件字串:\", Student.__doc__)\n",
    "print(\"方法文件字串:\", Student.displayCount.__doc__)\n",
    "print()\n",
    "\n",
    "st = Student('Sean')\n",
    "print(\"物件所屬類別:\", st.__class__)\n",
    "print(\"物件所屬模組:\", st.__module__)\n",
    "print(\"物件空間字典:\", st.__dict__)\n",
    "print(\"物件文件字串:\", st.__doc__)\n",
    "print(\"方法文件字串:\", st.displayCount.__doc__)\n"
   ]
  },
  {
   "cell_type": "code",
   "execution_count": 24,
   "id": "36687435",
   "metadata": {},
   "outputs": [
    {
     "name": "stdout",
     "output_type": "stream",
     "text": [
      "2372555274608 2372555274608 2372555274608 2372555274800\n",
      "2372555274608 2372555274608 2372555274800\n",
      "2372555274608 2372555274800\n",
      "Point <__main__.Point object at 0x0000022867507970> destroyed\n",
      "2372555274800\n",
      "Point <__main__.Point object at 0x0000022867507A30> destroyed\n"
     ]
    }
   ],
   "source": [
    "class Point:\n",
    "   def __init__( self, x=0, y=0):\n",
    "      self.x = x\n",
    "      self.y = y\n",
    "   def __del__(self):\n",
    "      c_n = self.__class__.__name__\n",
    "      print(c_n, self, \"destroyed\")\n",
    "\n",
    "pt1 = Point()\n",
    "pt2 = pt1\n",
    "pt3 = pt1\n",
    "pt4 = Point()\n",
    "print (id(pt1), id(pt2), id(pt3), id(pt4))\n",
    "del pt1\n",
    "print (id(pt2), id(pt3), id(pt4))\n",
    "del pt2\n",
    "print (id(pt3), id(pt4))\n",
    "del pt3\n",
    "print (id(pt4))\n",
    "del pt4\n"
   ]
  },
  {
   "cell_type": "code",
   "execution_count": 26,
   "id": "a0ad5db0",
   "metadata": {},
   "outputs": [
    {
     "name": "stdout",
     "output_type": "stream",
     "text": [
      "(2,3)\n",
      "(-1,2)\n",
      "(1,5)\n"
     ]
    }
   ],
   "source": [
    "class Point:\n",
    "    def __init__(self,x=0,y=0):\n",
    "        self.x = x\n",
    "        self.y = y\n",
    "    def __str__(self):\n",
    "        return f\"({self.x},{self.y})\"\n",
    "    def __add__(self,other):\n",
    "        x = self.x + other.x\n",
    "        y = self.y + other.y\n",
    "        return Point(x,y)\n",
    "p1 = Point(2,3)\n",
    "p2 = Point(-1,2)\n",
    "print(p1)\n",
    "print(p2)\n",
    "print(p1 + p2)"
   ]
  },
  {
   "cell_type": "code",
   "execution_count": 27,
   "id": "50ca1b33",
   "metadata": {},
   "outputs": [
    {
     "name": "stdout",
     "output_type": "stream",
     "text": [
      "self_mag =2\n",
      "other_mag =13\n",
      "True\n"
     ]
    }
   ],
   "source": [
    "class Point:\n",
    "    def __init__(self,x = 0,y = 0):\n",
    "        self.x = x\n",
    "        self.y = y\n",
    "    def __lt__(self, other):\n",
    "        self_mag = (self.x ** 2) + (self.y ** 2)\n",
    "        print(\"self_mag =\"+str(self_mag))\n",
    "        other_mag = (other.x ** 2) + (other.y ** 2)\n",
    "        print(\"other_mag =\"+str(other_mag))\n",
    "        return self_mag < other_mag\n",
    "\n",
    "print(Point(1,1) < Point(-2,-3))\n"
   ]
  },
  {
   "cell_type": "code",
   "execution_count": 28,
   "id": "d32c91c7",
   "metadata": {},
   "outputs": [
    {
     "name": "stdout",
     "output_type": "stream",
     "text": [
      "欄位不存在\n",
      "建立:20\n"
     ]
    }
   ],
   "source": [
    "class student:\n",
    "    school=\"NCKU\"\n",
    "    count=0\n",
    "    def __init__(self, name):\n",
    "        self.name = name\n",
    "        student.count += 1\n",
    "    def displayCount(self):\n",
    "        print(\"Total  %d\" % student.count)\n",
    "    def displaystudent(self):\n",
    "        print(\"Name : \", self.yourname)\n",
    "st1 = student(\"MAX\")\n",
    "#st1.age=18\n",
    "if hasattr(st1, 'age'):\n",
    "    print(\"欄位存在,要刪除\")\n",
    "    delattr(st1, 'age')\n",
    "    print(\"存在:\"+str(st1.age))\n",
    "else:\n",
    "    print(\"欄位不存在\")\n",
    "    setattr(st1, 'age', 20)\n",
    "    print(\"建立:\" + str(st1.age))\n"
   ]
  }
 ],
 "metadata": {
  "kernelspec": {
   "display_name": "Python 3 (ipykernel)",
   "language": "python",
   "name": "python3"
  },
  "language_info": {
   "codemirror_mode": {
    "name": "ipython",
    "version": 3
   },
   "file_extension": ".py",
   "mimetype": "text/x-python",
   "name": "python",
   "nbconvert_exporter": "python",
   "pygments_lexer": "ipython3",
   "version": "3.8.11"
  }
 },
 "nbformat": 4,
 "nbformat_minor": 5
}
